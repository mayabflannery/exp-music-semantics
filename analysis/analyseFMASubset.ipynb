{
 "cells": [
  {
   "cell_type": "raw",
   "id": "fb92fe9d-91b4-4e3b-b25c-d3dac5e953e3",
   "metadata": {},
   "source": [
    "---\n",
    "title: Analyze subset of FMA data\n",
    "author: Catherine\n",
    "date: \"..\"\n",
    "format:\n",
    "    html:\n",
    "        embed-resources: true\n",
    "---"
   ]
  },
  {
   "cell_type": "code",
   "execution_count": 1,
   "id": "2a9ec836-170c-41d2-ba73-a8dc34a2a13c",
   "metadata": {},
   "outputs": [],
   "source": [
    "import pandas as pd"
   ]
  },
  {
   "cell_type": "markdown",
   "id": "64dba2c8-fea9-40b9-af4f-31d5c606ae37",
   "metadata": {},
   "source": [
    "## Read data\n",
    "\n",
    "FMA repository is [here](https://github.com/mdeff/fma)\n",
    "\n",
    "- Download the metadata file [here](https://os.unil.cloud.switch.ch/fma/fma_metadata.zip) and unzip to `data-FMA` folder\n",
    "- `tracks.csv` contains album, name, genre, and tags\n",
    "- only a portion have complete tag information"
   ]
  },
  {
   "cell_type": "markdown",
   "id": "135ca550-babd-4384-a5b1-9d4c5a18b28c",
   "metadata": {},
   "source": [
    "## Read FMA tracks subset"
   ]
  },
  {
   "cell_type": "code",
   "execution_count": 3,
   "id": "14019ab3-87aa-4dd5-bb73-2c681c9d74e8",
   "metadata": {},
   "outputs": [
    {
     "data": {
      "text/html": [
       "<div>\n",
       "<style scoped>\n",
       "    .dataframe tbody tr th:only-of-type {\n",
       "        vertical-align: middle;\n",
       "    }\n",
       "\n",
       "    .dataframe tbody tr th {\n",
       "        vertical-align: top;\n",
       "    }\n",
       "\n",
       "    .dataframe thead tr th {\n",
       "        text-align: left;\n",
       "    }\n",
       "\n",
       "    .dataframe thead tr:last-of-type th {\n",
       "        text-align: right;\n",
       "    }\n",
       "</style>\n",
       "<table border=\"1\" class=\"dataframe\">\n",
       "  <thead>\n",
       "    <tr>\n",
       "      <th></th>\n",
       "      <th>artist</th>\n",
       "      <th>album</th>\n",
       "      <th colspan=\"4\" halign=\"left\">track</th>\n",
       "    </tr>\n",
       "    <tr>\n",
       "      <th></th>\n",
       "      <th>name</th>\n",
       "      <th>title</th>\n",
       "      <th>title</th>\n",
       "      <th>genres</th>\n",
       "      <th>genres_all</th>\n",
       "      <th>tags</th>\n",
       "    </tr>\n",
       "    <tr>\n",
       "      <th>track_id</th>\n",
       "      <th></th>\n",
       "      <th></th>\n",
       "      <th></th>\n",
       "      <th></th>\n",
       "      <th></th>\n",
       "      <th></th>\n",
       "    </tr>\n",
       "  </thead>\n",
       "  <tbody>\n",
       "    <tr>\n",
       "      <th>137</th>\n",
       "      <td>Airway</td>\n",
       "      <td>Live at LACE</td>\n",
       "      <td>Side A</td>\n",
       "      <td>[1, 32]</td>\n",
       "      <td>[32, 1, 38]</td>\n",
       "      <td>['lafms']</td>\n",
       "    </tr>\n",
       "    <tr>\n",
       "      <th>138</th>\n",
       "      <td>Airway</td>\n",
       "      <td>Live at LACE</td>\n",
       "      <td>Side B</td>\n",
       "      <td>[1, 32]</td>\n",
       "      <td>[32, 1, 38]</td>\n",
       "      <td>['lafms']</td>\n",
       "    </tr>\n",
       "    <tr>\n",
       "      <th>850</th>\n",
       "      <td>Human Host</td>\n",
       "      <td>Exploding Demon</td>\n",
       "      <td>Tomb Of Science</td>\n",
       "      <td>[12]</td>\n",
       "      <td>[12]</td>\n",
       "      <td>['baltimore']</td>\n",
       "    </tr>\n",
       "    <tr>\n",
       "      <th>851</th>\n",
       "      <td>Human Host</td>\n",
       "      <td>Exploding Demon</td>\n",
       "      <td>Six Realms</td>\n",
       "      <td>[12]</td>\n",
       "      <td>[12]</td>\n",
       "      <td>['baltimore']</td>\n",
       "    </tr>\n",
       "    <tr>\n",
       "      <th>852</th>\n",
       "      <td>Human Host</td>\n",
       "      <td>Exploding Demon</td>\n",
       "      <td>Escape From the Organ Chamber</td>\n",
       "      <td>[12]</td>\n",
       "      <td>[12]</td>\n",
       "      <td>['baltimore']</td>\n",
       "    </tr>\n",
       "  </tbody>\n",
       "</table>\n",
       "</div>"
      ],
      "text/plain": [
       "              artist            album                          track           \\\n",
       "                name            title                          title   genres   \n",
       "track_id                                                                        \n",
       "137           Airway     Live at LACE                         Side A  [1, 32]   \n",
       "138           Airway     Live at LACE                         Side B  [1, 32]   \n",
       "850       Human Host  Exploding Demon                Tomb Of Science     [12]   \n",
       "851       Human Host  Exploding Demon                     Six Realms     [12]   \n",
       "852       Human Host  Exploding Demon  Escape From the Organ Chamber     [12]   \n",
       "\n",
       "                                      \n",
       "           genres_all           tags  \n",
       "track_id                              \n",
       "137       [32, 1, 38]      ['lafms']  \n",
       "138       [32, 1, 38]      ['lafms']  \n",
       "850              [12]  ['baltimore']  \n",
       "851              [12]  ['baltimore']  \n",
       "852              [12]  ['baltimore']  "
      ]
     },
     "execution_count": 3,
     "metadata": {},
     "output_type": "execute_result"
    }
   ],
   "source": [
    "filePath = \"data-processed/tracks-tags.csv\"\n",
    "df = pd.read_csv(filePath, header=[0,1], index_col=0)\n",
    "df.head()"
   ]
  },
  {
   "cell_type": "markdown",
   "id": "7857c3bf-0798-45db-b05d-5ef81cf820e4",
   "metadata": {},
   "source": [
    "## Note: this is a multiindex dataframe\n",
    "\n",
    "Some of examples of how to select columns:"
   ]
  },
  {
   "cell_type": "code",
   "execution_count": 10,
   "id": "84a4d318-9767-4345-ad28-87b001117ef4",
   "metadata": {},
   "outputs": [
    {
     "data": {
      "text/plain": [
       "MultiIndex([('artist',       'name'),\n",
       "            ( 'album',      'title'),\n",
       "            ( 'track',      'title'),\n",
       "            ( 'track',     'genres'),\n",
       "            ( 'track', 'genres_all'),\n",
       "            ( 'track',       'tags')],\n",
       "           )"
      ]
     },
     "execution_count": 10,
     "metadata": {},
     "output_type": "execute_result"
    }
   ],
   "source": [
    "df.columns # See what the column names are"
   ]
  },
  {
   "cell_type": "markdown",
   "id": "523a06c2-88a1-4534-a34b-e49820dacd4e",
   "metadata": {},
   "source": [
    "The column names are [tuples](https://docs.python.org/3/tutorial/datastructures.html#tuples-and-sequences) (like lists that cannot be modified).\n",
    "\n",
    "To access a column:"
   ]
  },
  {
   "cell_type": "code",
   "execution_count": 11,
   "id": "e6f664f4-8516-4d12-ad01-af4c919f8e15",
   "metadata": {},
   "outputs": [
    {
     "data": {
      "text/plain": [
       "track_id\n",
       "137                    Live at LACE\n",
       "138                    Live at LACE\n",
       "850                 Exploding Demon\n",
       "851                 Exploding Demon\n",
       "852                 Exploding Demon\n",
       "                    ...            \n",
       "155269                     Volatile\n",
       "155275                     Dog Wave\n",
       "155276                     Dog Wave\n",
       "155277                     Dog Wave\n",
       "155320    What I Tell Myself Vol. 2\n",
       "Name: (album, title), Length: 23496, dtype: object"
      ]
     },
     "execution_count": 11,
     "metadata": {},
     "output_type": "execute_result"
    }
   ],
   "source": [
    "df[(\"album\", \"title\")]"
   ]
  },
  {
   "cell_type": "markdown",
   "id": "71c5f082-fb5f-4179-aa16-a1ce48e28062",
   "metadata": {},
   "source": [
    "To access multiple columns:"
   ]
  },
  {
   "cell_type": "code",
   "execution_count": 12,
   "id": "c2375213-e514-426c-81b0-12cf7008917d",
   "metadata": {},
   "outputs": [
    {
     "data": {
      "text/html": [
       "<div>\n",
       "<style scoped>\n",
       "    .dataframe tbody tr th:only-of-type {\n",
       "        vertical-align: middle;\n",
       "    }\n",
       "\n",
       "    .dataframe tbody tr th {\n",
       "        vertical-align: top;\n",
       "    }\n",
       "\n",
       "    .dataframe thead tr th {\n",
       "        text-align: left;\n",
       "    }\n",
       "\n",
       "    .dataframe thead tr:last-of-type th {\n",
       "        text-align: right;\n",
       "    }\n",
       "</style>\n",
       "<table border=\"1\" class=\"dataframe\">\n",
       "  <thead>\n",
       "    <tr>\n",
       "      <th></th>\n",
       "      <th>album</th>\n",
       "      <th>track</th>\n",
       "    </tr>\n",
       "    <tr>\n",
       "      <th></th>\n",
       "      <th>title</th>\n",
       "      <th>tags</th>\n",
       "    </tr>\n",
       "    <tr>\n",
       "      <th>track_id</th>\n",
       "      <th></th>\n",
       "      <th></th>\n",
       "    </tr>\n",
       "  </thead>\n",
       "  <tbody>\n",
       "    <tr>\n",
       "      <th>137</th>\n",
       "      <td>Live at LACE</td>\n",
       "      <td>['lafms']</td>\n",
       "    </tr>\n",
       "    <tr>\n",
       "      <th>138</th>\n",
       "      <td>Live at LACE</td>\n",
       "      <td>['lafms']</td>\n",
       "    </tr>\n",
       "    <tr>\n",
       "      <th>850</th>\n",
       "      <td>Exploding Demon</td>\n",
       "      <td>['baltimore']</td>\n",
       "    </tr>\n",
       "    <tr>\n",
       "      <th>851</th>\n",
       "      <td>Exploding Demon</td>\n",
       "      <td>['baltimore']</td>\n",
       "    </tr>\n",
       "    <tr>\n",
       "      <th>852</th>\n",
       "      <td>Exploding Demon</td>\n",
       "      <td>['baltimore']</td>\n",
       "    </tr>\n",
       "    <tr>\n",
       "      <th>...</th>\n",
       "      <td>...</td>\n",
       "      <td>...</td>\n",
       "    </tr>\n",
       "    <tr>\n",
       "      <th>155269</th>\n",
       "      <td>Volatile</td>\n",
       "      <td>['dark ambient', 'dark', 'ambient', 'noise', '...</td>\n",
       "    </tr>\n",
       "    <tr>\n",
       "      <th>155275</th>\n",
       "      <td>Dog Wave</td>\n",
       "      <td>['noise', 'stretching is magic', 'free music',...</td>\n",
       "    </tr>\n",
       "    <tr>\n",
       "      <th>155276</th>\n",
       "      <td>Dog Wave</td>\n",
       "      <td>['noise', 'stretching is magic', 'free music',...</td>\n",
       "    </tr>\n",
       "    <tr>\n",
       "      <th>155277</th>\n",
       "      <td>Dog Wave</td>\n",
       "      <td>['noise', 'stretching is magic', 'free music',...</td>\n",
       "    </tr>\n",
       "    <tr>\n",
       "      <th>155320</th>\n",
       "      <td>What I Tell Myself Vol. 2</td>\n",
       "      <td>['ballad', 'epic', 'rockabilly', 'curse', 'hex...</td>\n",
       "    </tr>\n",
       "  </tbody>\n",
       "</table>\n",
       "<p>23496 rows × 2 columns</p>\n",
       "</div>"
      ],
      "text/plain": [
       "                              album  \\\n",
       "                              title   \n",
       "track_id                              \n",
       "137                    Live at LACE   \n",
       "138                    Live at LACE   \n",
       "850                 Exploding Demon   \n",
       "851                 Exploding Demon   \n",
       "852                 Exploding Demon   \n",
       "...                             ...   \n",
       "155269                     Volatile   \n",
       "155275                     Dog Wave   \n",
       "155276                     Dog Wave   \n",
       "155277                     Dog Wave   \n",
       "155320    What I Tell Myself Vol. 2   \n",
       "\n",
       "                                                      track  \n",
       "                                                       tags  \n",
       "track_id                                                     \n",
       "137                                               ['lafms']  \n",
       "138                                               ['lafms']  \n",
       "850                                           ['baltimore']  \n",
       "851                                           ['baltimore']  \n",
       "852                                           ['baltimore']  \n",
       "...                                                     ...  \n",
       "155269    ['dark ambient', 'dark', 'ambient', 'noise', '...  \n",
       "155275    ['noise', 'stretching is magic', 'free music',...  \n",
       "155276    ['noise', 'stretching is magic', 'free music',...  \n",
       "155277    ['noise', 'stretching is magic', 'free music',...  \n",
       "155320    ['ballad', 'epic', 'rockabilly', 'curse', 'hex...  \n",
       "\n",
       "[23496 rows x 2 columns]"
      ]
     },
     "execution_count": 12,
     "metadata": {},
     "output_type": "execute_result"
    }
   ],
   "source": [
    "df[[(\"album\", \"title\"), (\"track\", \"tags\")]]"
   ]
  },
  {
   "cell_type": "markdown",
   "id": "151e3ca0-24ea-49bf-b983-45a2766d1a33",
   "metadata": {},
   "source": [
    "## TODO: replace or map genre codes with names\n",
    "\n",
    "ref: pandas [replace](https://pandas.pydata.org/docs/reference/api/pandas.DataFrame.replace.html#pandas.DataFrame.replace) or [map](https://pandas.pydata.org/docs/reference/api/pandas.DataFrame.map.html#pandas.DataFrame.map)"
   ]
  },
  {
   "cell_type": "code",
   "execution_count": null,
   "id": "d1949fe7-9483-42da-a8e6-fbd888720a40",
   "metadata": {},
   "outputs": [],
   "source": []
  },
  {
   "cell_type": "markdown",
   "id": "60949372-de68-412f-af54-6561f2ef3de9",
   "metadata": {},
   "source": [
    "## TODO: parse the cells in the track-tags column\n",
    "\n",
    "ref: python [strings](https://docs.python.org/3/library/string.html#module-string) and the [re](https://docs.python.org/3/library/re.html#module-re) package\n",
    "\n",
    "- practice re [here](https://regex101.com)"
   ]
  },
  {
   "cell_type": "code",
   "execution_count": null,
   "id": "68aaafc1-aadc-43f4-bc22-f4732524d300",
   "metadata": {},
   "outputs": [],
   "source": []
  }
 ],
 "metadata": {
  "kernelspec": {
   "display_name": "Python 3 (ipykernel)",
   "language": "python",
   "name": "python3"
  },
  "language_info": {
   "codemirror_mode": {
    "name": "ipython",
    "version": 3
   },
   "file_extension": ".py",
   "mimetype": "text/x-python",
   "name": "python",
   "nbconvert_exporter": "python",
   "pygments_lexer": "ipython3",
   "version": "3.11.7"
  }
 },
 "nbformat": 4,
 "nbformat_minor": 5
}
