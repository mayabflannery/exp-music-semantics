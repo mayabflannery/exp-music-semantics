{
 "cells": [
  {
   "cell_type": "raw",
   "id": "fb92fe9d-91b4-4e3b-b25c-d3dac5e953e3",
   "metadata": {},
   "source": [
    "---\n",
    "title: Analyze subset of FMA data\n",
    "author: Catherine\n",
    "date: \"..\"\n",
    "format:\n",
    "    html:\n",
    "        embed-resources: true\n",
    "---"
   ]
  },
  {
   "cell_type": "code",
   "execution_count": 3,
   "id": "2a9ec836-170c-41d2-ba73-a8dc34a2a13c",
   "metadata": {},
   "outputs": [],
   "source": [
    "import pandas as pd"
   ]
  },
  {
   "cell_type": "markdown",
   "id": "64dba2c8-fea9-40b9-af4f-31d5c606ae37",
   "metadata": {},
   "source": [
    "## Read data\n",
    "\n",
    "FMA repository is [here](https://github.com/mdeff/fma)\n",
    "\n",
    "- Download the metadata file [here](https://os.unil.cloud.switch.ch/fma/fma_metadata.zip) and unzip to `data-FMA` folder\n",
    "- `tracks.csv` contains album, name, genre, and tags\n",
    "- only a portion have complete tag information"
   ]
  },
  {
   "cell_type": "markdown",
   "id": "135ca550-babd-4384-a5b1-9d4c5a18b28c",
   "metadata": {},
   "source": [
    "## Read FMA tracks subset"
   ]
  },
  {
   "cell_type": "code",
   "execution_count": 4,
   "id": "14019ab3-87aa-4dd5-bb73-2c681c9d74e8",
   "metadata": {},
   "outputs": [
    {
     "data": {
      "text/html": [
       "<div>\n",
       "<style scoped>\n",
       "    .dataframe tbody tr th:only-of-type {\n",
       "        vertical-align: middle;\n",
       "    }\n",
       "\n",
       "    .dataframe tbody tr th {\n",
       "        vertical-align: top;\n",
       "    }\n",
       "\n",
       "    .dataframe thead tr th {\n",
       "        text-align: left;\n",
       "    }\n",
       "\n",
       "    .dataframe thead tr:last-of-type th {\n",
       "        text-align: right;\n",
       "    }\n",
       "</style>\n",
       "<table border=\"1\" class=\"dataframe\">\n",
       "  <thead>\n",
       "    <tr>\n",
       "      <th></th>\n",
       "      <th>artist</th>\n",
       "      <th>album</th>\n",
       "      <th colspan=\"4\" halign=\"left\">track</th>\n",
       "    </tr>\n",
       "    <tr>\n",
       "      <th></th>\n",
       "      <th>name</th>\n",
       "      <th>title</th>\n",
       "      <th>title</th>\n",
       "      <th>genres</th>\n",
       "      <th>genres_all</th>\n",
       "      <th>tags</th>\n",
       "    </tr>\n",
       "    <tr>\n",
       "      <th>track_id</th>\n",
       "      <th></th>\n",
       "      <th></th>\n",
       "      <th></th>\n",
       "      <th></th>\n",
       "      <th></th>\n",
       "      <th></th>\n",
       "    </tr>\n",
       "  </thead>\n",
       "  <tbody>\n",
       "    <tr>\n",
       "      <th>137</th>\n",
       "      <td>Airway</td>\n",
       "      <td>Live at LACE</td>\n",
       "      <td>Side A</td>\n",
       "      <td>[1, 32]</td>\n",
       "      <td>[32, 1, 38]</td>\n",
       "      <td>['lafms']</td>\n",
       "    </tr>\n",
       "    <tr>\n",
       "      <th>138</th>\n",
       "      <td>Airway</td>\n",
       "      <td>Live at LACE</td>\n",
       "      <td>Side B</td>\n",
       "      <td>[1, 32]</td>\n",
       "      <td>[32, 1, 38]</td>\n",
       "      <td>['lafms']</td>\n",
       "    </tr>\n",
       "    <tr>\n",
       "      <th>850</th>\n",
       "      <td>Human Host</td>\n",
       "      <td>Exploding Demon</td>\n",
       "      <td>Tomb Of Science</td>\n",
       "      <td>[12]</td>\n",
       "      <td>[12]</td>\n",
       "      <td>['baltimore']</td>\n",
       "    </tr>\n",
       "    <tr>\n",
       "      <th>851</th>\n",
       "      <td>Human Host</td>\n",
       "      <td>Exploding Demon</td>\n",
       "      <td>Six Realms</td>\n",
       "      <td>[12]</td>\n",
       "      <td>[12]</td>\n",
       "      <td>['baltimore']</td>\n",
       "    </tr>\n",
       "    <tr>\n",
       "      <th>852</th>\n",
       "      <td>Human Host</td>\n",
       "      <td>Exploding Demon</td>\n",
       "      <td>Escape From the Organ Chamber</td>\n",
       "      <td>[12]</td>\n",
       "      <td>[12]</td>\n",
       "      <td>['baltimore']</td>\n",
       "    </tr>\n",
       "  </tbody>\n",
       "</table>\n",
       "</div>"
      ],
      "text/plain": [
       "              artist            album                          track           \\\n",
       "                name            title                          title   genres   \n",
       "track_id                                                                        \n",
       "137           Airway     Live at LACE                         Side A  [1, 32]   \n",
       "138           Airway     Live at LACE                         Side B  [1, 32]   \n",
       "850       Human Host  Exploding Demon                Tomb Of Science     [12]   \n",
       "851       Human Host  Exploding Demon                     Six Realms     [12]   \n",
       "852       Human Host  Exploding Demon  Escape From the Organ Chamber     [12]   \n",
       "\n",
       "                                      \n",
       "           genres_all           tags  \n",
       "track_id                              \n",
       "137       [32, 1, 38]      ['lafms']  \n",
       "138       [32, 1, 38]      ['lafms']  \n",
       "850              [12]  ['baltimore']  \n",
       "851              [12]  ['baltimore']  \n",
       "852              [12]  ['baltimore']  "
      ]
     },
     "execution_count": 4,
     "metadata": {},
     "output_type": "execute_result"
    }
   ],
   "source": [
    "filePath = \"data-processed/tracks-tags.csv\"\n",
    "df = pd.read_csv(filePath, header=[0,1], index_col=0)\n",
    "df.head()"
   ]
  },
  {
   "cell_type": "markdown",
   "id": "7857c3bf-0798-45db-b05d-5ef81cf820e4",
   "metadata": {},
   "source": [
    "## Note: this is a multiindex dataframe\n",
    "\n",
    "Some of examples of how to select columns:"
   ]
  },
  {
   "cell_type": "code",
   "execution_count": 5,
   "id": "84a4d318-9767-4345-ad28-87b001117ef4",
   "metadata": {},
   "outputs": [
    {
     "data": {
      "text/plain": [
       "MultiIndex([('artist',       'name'),\n",
       "            ( 'album',      'title'),\n",
       "            ( 'track',      'title'),\n",
       "            ( 'track',     'genres'),\n",
       "            ( 'track', 'genres_all'),\n",
       "            ( 'track',       'tags')],\n",
       "           )"
      ]
     },
     "execution_count": 5,
     "metadata": {},
     "output_type": "execute_result"
    }
   ],
   "source": [
    "df.columns # See what the column names are"
   ]
  },
  {
   "cell_type": "markdown",
   "id": "523a06c2-88a1-4534-a34b-e49820dacd4e",
   "metadata": {},
   "source": [
    "The column names are [tuples](https://docs.python.org/3/tutorial/datastructures.html#tuples-and-sequences) (like lists that cannot be modified).\n",
    "\n",
    "To access a column:"
   ]
  },
  {
   "cell_type": "code",
   "execution_count": 6,
   "id": "e6f664f4-8516-4d12-ad01-af4c919f8e15",
   "metadata": {},
   "outputs": [
    {
     "data": {
      "text/plain": [
       "track_id\n",
       "137                    Live at LACE\n",
       "138                    Live at LACE\n",
       "850                 Exploding Demon\n",
       "851                 Exploding Demon\n",
       "852                 Exploding Demon\n",
       "                    ...            \n",
       "155269                     Volatile\n",
       "155275                     Dog Wave\n",
       "155276                     Dog Wave\n",
       "155277                     Dog Wave\n",
       "155320    What I Tell Myself Vol. 2\n",
       "Name: (album, title), Length: 23496, dtype: object"
      ]
     },
     "execution_count": 6,
     "metadata": {},
     "output_type": "execute_result"
    }
   ],
   "source": [
    "df[(\"album\", \"title\")]"
   ]
  },
  {
   "cell_type": "markdown",
   "id": "71c5f082-fb5f-4179-aa16-a1ce48e28062",
   "metadata": {},
   "source": [
    "To access multiple columns:"
   ]
  },
  {
   "cell_type": "code",
   "execution_count": 7,
   "id": "c2375213-e514-426c-81b0-12cf7008917d",
   "metadata": {},
   "outputs": [
    {
     "data": {
      "text/html": [
       "<div>\n",
       "<style scoped>\n",
       "    .dataframe tbody tr th:only-of-type {\n",
       "        vertical-align: middle;\n",
       "    }\n",
       "\n",
       "    .dataframe tbody tr th {\n",
       "        vertical-align: top;\n",
       "    }\n",
       "\n",
       "    .dataframe thead tr th {\n",
       "        text-align: left;\n",
       "    }\n",
       "\n",
       "    .dataframe thead tr:last-of-type th {\n",
       "        text-align: right;\n",
       "    }\n",
       "</style>\n",
       "<table border=\"1\" class=\"dataframe\">\n",
       "  <thead>\n",
       "    <tr>\n",
       "      <th></th>\n",
       "      <th>album</th>\n",
       "      <th>track</th>\n",
       "    </tr>\n",
       "    <tr>\n",
       "      <th></th>\n",
       "      <th>title</th>\n",
       "      <th>tags</th>\n",
       "    </tr>\n",
       "    <tr>\n",
       "      <th>track_id</th>\n",
       "      <th></th>\n",
       "      <th></th>\n",
       "    </tr>\n",
       "  </thead>\n",
       "  <tbody>\n",
       "    <tr>\n",
       "      <th>137</th>\n",
       "      <td>Live at LACE</td>\n",
       "      <td>['lafms']</td>\n",
       "    </tr>\n",
       "    <tr>\n",
       "      <th>138</th>\n",
       "      <td>Live at LACE</td>\n",
       "      <td>['lafms']</td>\n",
       "    </tr>\n",
       "    <tr>\n",
       "      <th>850</th>\n",
       "      <td>Exploding Demon</td>\n",
       "      <td>['baltimore']</td>\n",
       "    </tr>\n",
       "    <tr>\n",
       "      <th>851</th>\n",
       "      <td>Exploding Demon</td>\n",
       "      <td>['baltimore']</td>\n",
       "    </tr>\n",
       "    <tr>\n",
       "      <th>852</th>\n",
       "      <td>Exploding Demon</td>\n",
       "      <td>['baltimore']</td>\n",
       "    </tr>\n",
       "    <tr>\n",
       "      <th>...</th>\n",
       "      <td>...</td>\n",
       "      <td>...</td>\n",
       "    </tr>\n",
       "    <tr>\n",
       "      <th>155269</th>\n",
       "      <td>Volatile</td>\n",
       "      <td>['dark ambient', 'dark', 'ambient', 'noise', '...</td>\n",
       "    </tr>\n",
       "    <tr>\n",
       "      <th>155275</th>\n",
       "      <td>Dog Wave</td>\n",
       "      <td>['noise', 'stretching is magic', 'free music',...</td>\n",
       "    </tr>\n",
       "    <tr>\n",
       "      <th>155276</th>\n",
       "      <td>Dog Wave</td>\n",
       "      <td>['noise', 'stretching is magic', 'free music',...</td>\n",
       "    </tr>\n",
       "    <tr>\n",
       "      <th>155277</th>\n",
       "      <td>Dog Wave</td>\n",
       "      <td>['noise', 'stretching is magic', 'free music',...</td>\n",
       "    </tr>\n",
       "    <tr>\n",
       "      <th>155320</th>\n",
       "      <td>What I Tell Myself Vol. 2</td>\n",
       "      <td>['ballad', 'epic', 'rockabilly', 'curse', 'hex...</td>\n",
       "    </tr>\n",
       "  </tbody>\n",
       "</table>\n",
       "<p>23496 rows × 2 columns</p>\n",
       "</div>"
      ],
      "text/plain": [
       "                              album  \\\n",
       "                              title   \n",
       "track_id                              \n",
       "137                    Live at LACE   \n",
       "138                    Live at LACE   \n",
       "850                 Exploding Demon   \n",
       "851                 Exploding Demon   \n",
       "852                 Exploding Demon   \n",
       "...                             ...   \n",
       "155269                     Volatile   \n",
       "155275                     Dog Wave   \n",
       "155276                     Dog Wave   \n",
       "155277                     Dog Wave   \n",
       "155320    What I Tell Myself Vol. 2   \n",
       "\n",
       "                                                      track  \n",
       "                                                       tags  \n",
       "track_id                                                     \n",
       "137                                               ['lafms']  \n",
       "138                                               ['lafms']  \n",
       "850                                           ['baltimore']  \n",
       "851                                           ['baltimore']  \n",
       "852                                           ['baltimore']  \n",
       "...                                                     ...  \n",
       "155269    ['dark ambient', 'dark', 'ambient', 'noise', '...  \n",
       "155275    ['noise', 'stretching is magic', 'free music',...  \n",
       "155276    ['noise', 'stretching is magic', 'free music',...  \n",
       "155277    ['noise', 'stretching is magic', 'free music',...  \n",
       "155320    ['ballad', 'epic', 'rockabilly', 'curse', 'hex...  \n",
       "\n",
       "[23496 rows x 2 columns]"
      ]
     },
     "execution_count": 7,
     "metadata": {},
     "output_type": "execute_result"
    }
   ],
   "source": [
    "df[[(\"album\", \"title\"), (\"track\", \"tags\")]]"
   ]
  },
  {
   "cell_type": "markdown",
   "id": "151e3ca0-24ea-49bf-b983-45a2766d1a33",
   "metadata": {},
   "source": [
    "## TODO: replace or map genre codes with names\n",
    "\n",
    "ref: pandas [replace](https://pandas.pydata.org/docs/reference/api/pandas.DataFrame.replace.html#pandas.DataFrame.replace) or [map](https://pandas.pydata.org/docs/reference/api/pandas.DataFrame.map.html#pandas.DataFrame.map)"
   ]
  },
  {
   "cell_type": "code",
   "execution_count": 8,
   "id": "d1949fe7-9483-42da-a8e6-fbd888720a40",
   "metadata": {},
   "outputs": [
    {
     "data": {
      "text/html": [
       "<div>\n",
       "<style scoped>\n",
       "    .dataframe tbody tr th:only-of-type {\n",
       "        vertical-align: middle;\n",
       "    }\n",
       "\n",
       "    .dataframe tbody tr th {\n",
       "        vertical-align: top;\n",
       "    }\n",
       "\n",
       "    .dataframe thead th {\n",
       "        text-align: right;\n",
       "    }\n",
       "</style>\n",
       "<table border=\"1\" class=\"dataframe\">\n",
       "  <thead>\n",
       "    <tr style=\"text-align: right;\">\n",
       "      <th></th>\n",
       "      <th>genre_id</th>\n",
       "      <th>#tracks</th>\n",
       "      <th>parent</th>\n",
       "      <th>title</th>\n",
       "      <th>top_level</th>\n",
       "    </tr>\n",
       "  </thead>\n",
       "  <tbody>\n",
       "    <tr>\n",
       "      <th>0</th>\n",
       "      <td>1</td>\n",
       "      <td>8693</td>\n",
       "      <td>38</td>\n",
       "      <td>Avant-Garde</td>\n",
       "      <td>38</td>\n",
       "    </tr>\n",
       "    <tr>\n",
       "      <th>1</th>\n",
       "      <td>2</td>\n",
       "      <td>5271</td>\n",
       "      <td>0</td>\n",
       "      <td>International</td>\n",
       "      <td>2</td>\n",
       "    </tr>\n",
       "    <tr>\n",
       "      <th>2</th>\n",
       "      <td>3</td>\n",
       "      <td>1752</td>\n",
       "      <td>0</td>\n",
       "      <td>Blues</td>\n",
       "      <td>3</td>\n",
       "    </tr>\n",
       "    <tr>\n",
       "      <th>3</th>\n",
       "      <td>4</td>\n",
       "      <td>4126</td>\n",
       "      <td>0</td>\n",
       "      <td>Jazz</td>\n",
       "      <td>4</td>\n",
       "    </tr>\n",
       "    <tr>\n",
       "      <th>4</th>\n",
       "      <td>5</td>\n",
       "      <td>4106</td>\n",
       "      <td>0</td>\n",
       "      <td>Classical</td>\n",
       "      <td>5</td>\n",
       "    </tr>\n",
       "  </tbody>\n",
       "</table>\n",
       "</div>"
      ],
      "text/plain": [
       "   genre_id  #tracks  parent          title  top_level\n",
       "0         1     8693      38    Avant-Garde         38\n",
       "1         2     5271       0  International          2\n",
       "2         3     1752       0          Blues          3\n",
       "3         4     4126       0           Jazz          4\n",
       "4         5     4106       0      Classical          5"
      ]
     },
     "execution_count": 8,
     "metadata": {},
     "output_type": "execute_result"
    }
   ],
   "source": [
    "# Read in genres.csv\n",
    "\n",
    "df_genres = pd.read_csv(\"data-FMA/genres.csv\")\n",
    "df_genres.head()"
   ]
  },
  {
   "cell_type": "code",
   "execution_count": 9,
   "id": "58ee1ad6-4d90-4e4e-b7d2-ccce326bebdd",
   "metadata": {
    "scrolled": true
   },
   "outputs": [
    {
     "data": {
      "text/plain": [
       "{1: 'Avant-Garde',\n",
       " 2: 'International',\n",
       " 3: 'Blues',\n",
       " 4: 'Jazz',\n",
       " 5: 'Classical',\n",
       " 6: 'Novelty',\n",
       " 7: 'Comedy',\n",
       " 8: 'Old-Time / Historic',\n",
       " 9: 'Country',\n",
       " 10: 'Pop',\n",
       " 11: 'Disco',\n",
       " 12: 'Rock',\n",
       " 13: 'Easy Listening',\n",
       " 14: 'Soul-RnB',\n",
       " 15: 'Electronic',\n",
       " 16: 'Sound Effects',\n",
       " 17: 'Folk',\n",
       " 18: 'Soundtrack',\n",
       " 19: 'Funk',\n",
       " 20: 'Spoken',\n",
       " 21: 'Hip-Hop',\n",
       " 22: 'Audio Collage',\n",
       " 25: 'Punk',\n",
       " 26: 'Post-Rock',\n",
       " 27: 'Lo-Fi',\n",
       " 30: 'Field Recordings',\n",
       " 31: 'Metal',\n",
       " 32: 'Noise',\n",
       " 33: 'Psych-Folk',\n",
       " 36: 'Krautrock',\n",
       " 37: 'Jazz: Vocal',\n",
       " 38: 'Experimental',\n",
       " 41: 'Electroacoustic',\n",
       " 42: 'Ambient Electronic',\n",
       " 43: 'Radio Art',\n",
       " 45: 'Loud-Rock',\n",
       " 46: 'Latin America',\n",
       " 47: 'Drone',\n",
       " 49: 'Free-Folk',\n",
       " 53: 'Noise-Rock',\n",
       " 58: 'Psych-Rock',\n",
       " 63: 'Bluegrass',\n",
       " 64: 'Electro-Punk',\n",
       " 65: 'Radio',\n",
       " 66: 'Indie-Rock',\n",
       " 70: 'Industrial',\n",
       " 71: 'No Wave',\n",
       " 74: 'Free-Jazz',\n",
       " 76: 'Experimental Pop',\n",
       " 77: 'French',\n",
       " 79: 'Reggae - Dub',\n",
       " 81: 'Afrobeat',\n",
       " 83: 'Nerdcore',\n",
       " 85: 'Garage',\n",
       " 86: 'Indian',\n",
       " 88: 'New Wave',\n",
       " 89: 'Post-Punk',\n",
       " 90: 'Sludge',\n",
       " 92: 'African',\n",
       " 94: 'Freak-Folk',\n",
       " 97: 'Jazz: Out',\n",
       " 98: 'Progressive',\n",
       " 100: 'Alternative Hip-Hop',\n",
       " 101: 'Death-Metal',\n",
       " 102: 'Middle East',\n",
       " 103: 'Singer-Songwriter',\n",
       " 107: 'Ambient',\n",
       " 109: 'Hardcore',\n",
       " 111: 'Power-Pop',\n",
       " 113: 'Space-Rock',\n",
       " 117: 'Polka',\n",
       " 118: 'Balkan',\n",
       " 125: 'Unclassifiable',\n",
       " 130: 'Europe',\n",
       " 137: 'Americana',\n",
       " 138: 'Spoken Weird',\n",
       " 166: 'Interview',\n",
       " 167: 'Black-Metal',\n",
       " 169: 'Rockabilly',\n",
       " 170: 'Easy Listening: Vocal',\n",
       " 171: 'Brazilian',\n",
       " 172: 'Asia-Far East',\n",
       " 173: 'N. Indian Traditional',\n",
       " 174: 'South Indian Traditional',\n",
       " 175: 'Bollywood',\n",
       " 176: 'Pacific',\n",
       " 177: 'Celtic',\n",
       " 178: 'Be-Bop',\n",
       " 179: 'Big Band/Swing',\n",
       " 180: 'British Folk',\n",
       " 181: 'Techno',\n",
       " 182: 'House',\n",
       " 183: 'Glitch',\n",
       " 184: 'Minimal Electronic',\n",
       " 185: 'Breakcore - Hard',\n",
       " 186: 'Sound Poetry',\n",
       " 187: '20th Century Classical',\n",
       " 188: 'Poetry',\n",
       " 189: 'Talk Radio',\n",
       " 214: 'North African',\n",
       " 224: 'Sound Collage',\n",
       " 232: 'Flamenco',\n",
       " 236: 'IDM',\n",
       " 240: 'Chiptune',\n",
       " 247: 'Musique Concrete',\n",
       " 250: 'Improv',\n",
       " 267: 'New Age',\n",
       " 286: 'Trip-Hop',\n",
       " 296: 'Dance',\n",
       " 297: 'Chip Music',\n",
       " 311: 'Lounge',\n",
       " 314: 'Goth',\n",
       " 322: 'Composed Music',\n",
       " 337: 'Drum & Bass',\n",
       " 359: 'Shoegaze',\n",
       " 360: 'Kid-Friendly',\n",
       " 361: 'Thrash',\n",
       " 362: 'Synth Pop',\n",
       " 374: 'Banter',\n",
       " 377: 'Deep Funk',\n",
       " 378: 'Spoken Word',\n",
       " 400: 'Chill-out',\n",
       " 401: 'Bigbeat',\n",
       " 404: 'Surf',\n",
       " 428: 'Radio Theater',\n",
       " 439: 'Grindcore',\n",
       " 440: 'Rock Opera',\n",
       " 441: 'Opera',\n",
       " 442: 'Chamber Music',\n",
       " 443: 'Choral Music',\n",
       " 444: 'Symphony',\n",
       " 456: 'Minimalism',\n",
       " 465: 'Musical Theater',\n",
       " 468: 'Dubstep',\n",
       " 491: 'Skweee',\n",
       " 493: 'Western Swing',\n",
       " 495: 'Downtempo',\n",
       " 502: 'Cumbia',\n",
       " 504: 'Latin',\n",
       " 514: 'Sound Art',\n",
       " 524: 'Romany (Gypsy)',\n",
       " 538: 'Compilation',\n",
       " 539: 'Rap',\n",
       " 542: 'Breakbeat',\n",
       " 567: 'Gospel',\n",
       " 580: 'Abstract Hip-Hop',\n",
       " 602: 'Reggae - Dancehall',\n",
       " 619: 'Spanish',\n",
       " 651: 'Country & Western',\n",
       " 659: 'Contemporary Classical',\n",
       " 693: 'Wonky',\n",
       " 695: 'Jungle',\n",
       " 741: 'Klezmer',\n",
       " 763: 'Holiday',\n",
       " 808: 'Salsa',\n",
       " 810: 'Nu-Jazz',\n",
       " 811: 'Hip-Hop Beats',\n",
       " 906: 'Modern Jazz',\n",
       " 1032: 'Turkish',\n",
       " 1060: 'Tango',\n",
       " 1156: 'Fado',\n",
       " 1193: 'Christmas',\n",
       " 1235: 'Instrumental'}"
      ]
     },
     "execution_count": 9,
     "metadata": {},
     "output_type": "execute_result"
    }
   ],
   "source": [
    "dict_map = {}\n",
    "\n",
    "for index, row in df_genres.iterrows():\n",
    "    dict_map[row[\"genre_id\"]] = row[\"title\"]\n",
    "\n",
    "dict_map"
   ]
  },
  {
   "cell_type": "code",
   "execution_count": null,
   "id": "23b60b7f-90f6-459d-b3f3-09e5019f893d",
   "metadata": {},
   "outputs": [],
   "source": []
  },
  {
   "cell_type": "markdown",
   "id": "60949372-de68-412f-af54-6561f2ef3de9",
   "metadata": {},
   "source": [
    "## TODO: parse the cells in the track-tags column\n",
    "\n",
    "ref: python [strings](https://docs.python.org/3/library/string.html#module-string) and the [re](https://docs.python.org/3/library/re.html#module-re) package\n",
    "\n",
    "- practice re [here](https://regex101.com)"
   ]
  },
  {
   "cell_type": "code",
   "execution_count": 10,
   "id": "68aaafc1-aadc-43f4-bc22-f4732524d300",
   "metadata": {},
   "outputs": [
    {
     "data": {
      "text/plain": [
       "['[1,', '15,', '40]']"
      ]
     },
     "execution_count": 10,
     "metadata": {},
     "output_type": "execute_result"
    }
   ],
   "source": [
    "def myFunction(aString):\n",
    "\n",
    "    return aString.split()\n",
    "\n",
    "x = \"[1, 15, 40]\"\n",
    "\n",
    "myFunction(x)"
   ]
  },
  {
   "cell_type": "markdown",
   "id": "806b7254-f86a-4eae-9a6d-4a1c49148da9",
   "metadata": {},
   "source": [
    "Experiment with functions for replacing numbers with words:"
   ]
  },
  {
   "cell_type": "code",
   "execution_count": 11,
   "id": "52795fd6-1f4c-48a2-bab2-17953d6be346",
   "metadata": {},
   "outputs": [
    {
     "name": "stdout",
     "output_type": "stream",
     "text": [
      "I have OneTwoThree apples and FourFive oranges.\n"
     ]
    }
   ],
   "source": [
    "def replace_numbers(input_string, replacement_dict):\n",
    "    result = ''\n",
    "    for char in input_string:\n",
    "        if char.isdigit():\n",
    "            result += replacement_dict.get(int(char), char)\n",
    "        else:\n",
    "            result += char\n",
    "    return result\n",
    "\n",
    "# Example usage:\n",
    "replacement_dict = {1: 'One', 2: 'Two', 3: 'Three', 4: 'Four', 5: 'Five'}\n",
    "input_string = \"I have 123 apples and 45 oranges.\"\n",
    "\n",
    "output_string = replace_numbers(input_string, replacement_dict)\n",
    "print(output_string)"
   ]
  },
  {
   "cell_type": "markdown",
   "id": "9166c364-87e1-47c1-a742-7f425cca1936",
   "metadata": {},
   "source": [
    "Create a dataframe with only track id and genre information:"
   ]
  },
  {
   "cell_type": "code",
   "execution_count": 12,
   "id": "0661b42e-980c-4429-9c4c-35b7723f1746",
   "metadata": {},
   "outputs": [
    {
     "data": {
      "text/plain": [
       "track_id\n",
       "137              [1, 32]\n",
       "138              [1, 32]\n",
       "850                 [12]\n",
       "851                 [12]\n",
       "852                 [12]\n",
       "               ...      \n",
       "155269    [42, 107, 183]\n",
       "155275      [15, 32, 38]\n",
       "155276      [15, 32, 38]\n",
       "155277      [15, 32, 38]\n",
       "155320     [10, 12, 169]\n",
       "Name: (track, genres), Length: 23496, dtype: object"
      ]
     },
     "execution_count": 12,
     "metadata": {},
     "output_type": "execute_result"
    }
   ],
   "source": [
    "df[(\"track\", \"genres\")]"
   ]
  },
  {
   "cell_type": "code",
   "execution_count": 13,
   "id": "33f532d0-4e22-4e39-ad9a-ca3baa2abba1",
   "metadata": {},
   "outputs": [
    {
     "data": {
      "text/html": [
       "<div>\n",
       "<style scoped>\n",
       "    .dataframe tbody tr th:only-of-type {\n",
       "        vertical-align: middle;\n",
       "    }\n",
       "\n",
       "    .dataframe tbody tr th {\n",
       "        vertical-align: top;\n",
       "    }\n",
       "\n",
       "    .dataframe thead tr th {\n",
       "        text-align: left;\n",
       "    }\n",
       "\n",
       "    .dataframe thead tr:last-of-type th {\n",
       "        text-align: right;\n",
       "    }\n",
       "</style>\n",
       "<table border=\"1\" class=\"dataframe\">\n",
       "  <thead>\n",
       "    <tr>\n",
       "      <th></th>\n",
       "      <th colspan=\"2\" halign=\"left\">track</th>\n",
       "    </tr>\n",
       "    <tr>\n",
       "      <th></th>\n",
       "      <th>genres</th>\n",
       "      <th>genres_all</th>\n",
       "    </tr>\n",
       "    <tr>\n",
       "      <th>track_id</th>\n",
       "      <th></th>\n",
       "      <th></th>\n",
       "    </tr>\n",
       "  </thead>\n",
       "  <tbody>\n",
       "    <tr>\n",
       "      <th>137</th>\n",
       "      <td>[1, 32]</td>\n",
       "      <td>[32, 1, 38]</td>\n",
       "    </tr>\n",
       "    <tr>\n",
       "      <th>138</th>\n",
       "      <td>[1, 32]</td>\n",
       "      <td>[32, 1, 38]</td>\n",
       "    </tr>\n",
       "    <tr>\n",
       "      <th>850</th>\n",
       "      <td>[12]</td>\n",
       "      <td>[12]</td>\n",
       "    </tr>\n",
       "    <tr>\n",
       "      <th>851</th>\n",
       "      <td>[12]</td>\n",
       "      <td>[12]</td>\n",
       "    </tr>\n",
       "    <tr>\n",
       "      <th>852</th>\n",
       "      <td>[12]</td>\n",
       "      <td>[12]</td>\n",
       "    </tr>\n",
       "  </tbody>\n",
       "</table>\n",
       "</div>"
      ],
      "text/plain": [
       "            track             \n",
       "           genres   genres_all\n",
       "track_id                      \n",
       "137       [1, 32]  [32, 1, 38]\n",
       "138       [1, 32]  [32, 1, 38]\n",
       "850          [12]         [12]\n",
       "851          [12]         [12]\n",
       "852          [12]         [12]"
      ]
     },
     "execution_count": 13,
     "metadata": {},
     "output_type": "execute_result"
    }
   ],
   "source": [
    "df_track_genres = df[[\n",
    "    (\"track\", \"genres\"),\n",
    "    (\"track\", \"genres_all\")\n",
    "]]\n",
    "df_track_genres.head()"
   ]
  },
  {
   "cell_type": "markdown",
   "id": "d97720d7-c272-430a-b5a4-23dab7cf1ffc",
   "metadata": {},
   "source": [
    "Change the data type from object into string so it can be used in string function:"
   ]
  },
  {
   "cell_type": "code",
   "execution_count": 14,
   "id": "d18b9a82-1336-445a-ae2c-1b0f4a43a11b",
   "metadata": {},
   "outputs": [
    {
     "data": {
      "text/plain": [
       "track  genres        object\n",
       "       genres_all    object\n",
       "dtype: object"
      ]
     },
     "execution_count": 14,
     "metadata": {},
     "output_type": "execute_result"
    }
   ],
   "source": [
    "df_track_genres.dtypes"
   ]
  },
  {
   "cell_type": "code",
   "execution_count": 15,
   "id": "156399a1-ff07-4ce7-9da3-ea77716836bb",
   "metadata": {},
   "outputs": [],
   "source": [
    "df_track_genres[(\"track\", \"genres\")] = df_track_genres.loc[:,[(\"track\", \"genres\")]].astype(\"string\")"
   ]
  },
  {
   "cell_type": "code",
   "execution_count": 16,
   "id": "a585c04f-e56a-4adc-b84e-d67a68a57355",
   "metadata": {},
   "outputs": [],
   "source": [
    "df_track_genres.loc[:, (\"track\", \"genres\")] = df_track_genres[(\"track\", \"genres\")].astype(\"string\")"
   ]
  },
  {
   "cell_type": "code",
   "execution_count": 17,
   "id": "4d356b59-583d-43b1-9a37-aec61e417e86",
   "metadata": {},
   "outputs": [
    {
     "data": {
      "text/plain": [
       "track  genres        string[python]\n",
       "       genres_all            object\n",
       "dtype: object"
      ]
     },
     "execution_count": 17,
     "metadata": {},
     "output_type": "execute_result"
    }
   ],
   "source": [
    "df_track_genres.dtypes"
   ]
  },
  {
   "cell_type": "markdown",
   "id": "800efccf-a0d3-4bff-b8a6-fa80ae221fc8",
   "metadata": {},
   "source": [
    "Create function to split number string in genre column to individual substrings:"
   ]
  },
  {
   "cell_type": "code",
   "execution_count": 18,
   "id": "73436086-fa4e-49ce-b46c-90303ae39d18",
   "metadata": {},
   "outputs": [
    {
     "name": "stdout",
     "output_type": "stream",
     "text": [
      "['Avant-Garde', 'Classical', 'Country']\n"
     ]
    }
   ],
   "source": [
    "import ast\n",
    "\n",
    "def split_numbers(input_string):\n",
    "    # Use ast.literal_eval to safely evaluate the string as a Python literal (list)\n",
    "    numbers_list = ast.literal_eval(input_string)\n",
    "    \n",
    "    # Convert each element in the list to a string\n",
    "    numbers_str = [str(number) for number in numbers_list]\n",
    "    \n",
    "    # Map numbers in list to genre word (for..in)\n",
    "    newList = [ ]\n",
    "    \n",
    "    for x in numbers_str:\n",
    "        newList.append(dict_map[int(x)])\n",
    "    \n",
    "    return newList\n",
    "\n",
    "# Input string\n",
    "input_string = \"(1, 5, 9)\"\n",
    "\n",
    "# Call the split_numbers function\n",
    "result = split_numbers(input_string)\n",
    "\n",
    "# Print the result\n",
    "print(result)\n"
   ]
  },
  {
   "cell_type": "code",
   "execution_count": 19,
   "id": "73875078-b3af-48e2-ba0c-1e15cea7083d",
   "metadata": {},
   "outputs": [
    {
     "data": {
      "text/html": [
       "<div>\n",
       "<style scoped>\n",
       "    .dataframe tbody tr th:only-of-type {\n",
       "        vertical-align: middle;\n",
       "    }\n",
       "\n",
       "    .dataframe tbody tr th {\n",
       "        vertical-align: top;\n",
       "    }\n",
       "\n",
       "    .dataframe thead th {\n",
       "        text-align: right;\n",
       "    }\n",
       "</style>\n",
       "<table border=\"1\" class=\"dataframe\">\n",
       "  <thead>\n",
       "    <tr style=\"text-align: right;\">\n",
       "      <th></th>\n",
       "      <th>column</th>\n",
       "    </tr>\n",
       "  </thead>\n",
       "  <tbody>\n",
       "    <tr>\n",
       "      <th>0</th>\n",
       "      <td>NaN</td>\n",
       "    </tr>\n",
       "    <tr>\n",
       "      <th>1</th>\n",
       "      <td>NaN</td>\n",
       "    </tr>\n",
       "    <tr>\n",
       "      <th>2</th>\n",
       "      <td>NaN</td>\n",
       "    </tr>\n",
       "  </tbody>\n",
       "</table>\n",
       "</div>"
      ],
      "text/plain": [
       "  column\n",
       "0    NaN\n",
       "1    NaN\n",
       "2    NaN"
      ]
     },
     "execution_count": 19,
     "metadata": {},
     "output_type": "execute_result"
    }
   ],
   "source": [
    "data = {'column': ['9', '10', '11']}\n",
    "df_test = pd.DataFrame(data)\n",
    "df_test\n",
    "\n",
    "df_test[\"column\"] = df_test[\"column\"].map(dict_map)\n",
    "\n",
    "df_test"
   ]
  },
  {
   "cell_type": "markdown",
   "id": "9110fc9e-0a1c-47f9-99eb-a4cfd371f8a2",
   "metadata": {},
   "source": [
    "Map the split numbers function to track id and genre dataframe:"
   ]
  },
  {
   "cell_type": "code",
   "execution_count": 20,
   "id": "1f900093-36bb-4441-a6c3-f747c4815ab7",
   "metadata": {},
   "outputs": [
    {
     "data": {
      "text/plain": [
       "track_id\n",
       "137                        [Avant-Garde, Noise]\n",
       "138                        [Avant-Garde, Noise]\n",
       "850                                      [Rock]\n",
       "851                                      [Rock]\n",
       "852                                      [Rock]\n",
       "                          ...                  \n",
       "155269    [Ambient Electronic, Ambient, Glitch]\n",
       "155275        [Electronic, Noise, Experimental]\n",
       "155276        [Electronic, Noise, Experimental]\n",
       "155277        [Electronic, Noise, Experimental]\n",
       "155320                  [Pop, Rock, Rockabilly]\n",
       "Name: (track, genres), Length: 23496, dtype: object"
      ]
     },
     "execution_count": 20,
     "metadata": {},
     "output_type": "execute_result"
    }
   ],
   "source": [
    "df_track_genres[(\"track\", \"genres\")].map(split_numbers)"
   ]
  },
  {
   "cell_type": "markdown",
   "id": "f21f9bcf-f24c-4697-ba0a-5e829506078d",
   "metadata": {},
   "source": [
    "Create new dataframe with genre_word and track_id columns:"
   ]
  },
  {
   "cell_type": "code",
   "execution_count": 55,
   "id": "82786ae6-c358-488c-876e-643c4125d93b",
   "metadata": {},
   "outputs": [
    {
     "data": {
      "text/html": [
       "<div>\n",
       "<style scoped>\n",
       "    .dataframe tbody tr th:only-of-type {\n",
       "        vertical-align: middle;\n",
       "    }\n",
       "\n",
       "    .dataframe tbody tr th {\n",
       "        vertical-align: top;\n",
       "    }\n",
       "\n",
       "    .dataframe thead tr th {\n",
       "        text-align: left;\n",
       "    }\n",
       "\n",
       "    .dataframe thead tr:last-of-type th {\n",
       "        text-align: right;\n",
       "    }\n",
       "</style>\n",
       "<table border=\"1\" class=\"dataframe\">\n",
       "  <thead>\n",
       "    <tr>\n",
       "      <th></th>\n",
       "      <th>track</th>\n",
       "    </tr>\n",
       "    <tr>\n",
       "      <th></th>\n",
       "      <th>genres</th>\n",
       "    </tr>\n",
       "    <tr>\n",
       "      <th>track_id</th>\n",
       "      <th></th>\n",
       "    </tr>\n",
       "  </thead>\n",
       "  <tbody>\n",
       "    <tr>\n",
       "      <th>137</th>\n",
       "      <td>[Avant-Garde, Noise]</td>\n",
       "    </tr>\n",
       "    <tr>\n",
       "      <th>138</th>\n",
       "      <td>[Avant-Garde, Noise]</td>\n",
       "    </tr>\n",
       "    <tr>\n",
       "      <th>850</th>\n",
       "      <td>[Rock]</td>\n",
       "    </tr>\n",
       "    <tr>\n",
       "      <th>851</th>\n",
       "      <td>[Rock]</td>\n",
       "    </tr>\n",
       "    <tr>\n",
       "      <th>852</th>\n",
       "      <td>[Rock]</td>\n",
       "    </tr>\n",
       "    <tr>\n",
       "      <th>...</th>\n",
       "      <td>...</td>\n",
       "    </tr>\n",
       "    <tr>\n",
       "      <th>155269</th>\n",
       "      <td>[Ambient Electronic, Ambient, Glitch]</td>\n",
       "    </tr>\n",
       "    <tr>\n",
       "      <th>155275</th>\n",
       "      <td>[Electronic, Noise, Experimental]</td>\n",
       "    </tr>\n",
       "    <tr>\n",
       "      <th>155276</th>\n",
       "      <td>[Electronic, Noise, Experimental]</td>\n",
       "    </tr>\n",
       "    <tr>\n",
       "      <th>155277</th>\n",
       "      <td>[Electronic, Noise, Experimental]</td>\n",
       "    </tr>\n",
       "    <tr>\n",
       "      <th>155320</th>\n",
       "      <td>[Pop, Rock, Rockabilly]</td>\n",
       "    </tr>\n",
       "  </tbody>\n",
       "</table>\n",
       "<p>23496 rows × 1 columns</p>\n",
       "</div>"
      ],
      "text/plain": [
       "                                          track\n",
       "                                         genres\n",
       "track_id                                       \n",
       "137                        [Avant-Garde, Noise]\n",
       "138                        [Avant-Garde, Noise]\n",
       "850                                      [Rock]\n",
       "851                                      [Rock]\n",
       "852                                      [Rock]\n",
       "...                                         ...\n",
       "155269    [Ambient Electronic, Ambient, Glitch]\n",
       "155275        [Electronic, Noise, Experimental]\n",
       "155276        [Electronic, Noise, Experimental]\n",
       "155277        [Electronic, Noise, Experimental]\n",
       "155320                  [Pop, Rock, Rockabilly]\n",
       "\n",
       "[23496 rows x 1 columns]"
      ]
     },
     "execution_count": 55,
     "metadata": {},
     "output_type": "execute_result"
    }
   ],
   "source": [
    "df_genre_words = df_track_genres[(\"track\", \"genres\")].map(split_numbers)\n",
    "df_genre_words\n",
    "df_genre_words.to_frame()"
   ]
  },
  {
   "cell_type": "markdown",
   "id": "32ef4372-8e21-4499-b62d-dabb0bcc774a",
   "metadata": {},
   "source": [
    "Group by genre words:"
   ]
  },
  {
   "cell_type": "code",
   "execution_count": 30,
   "id": "76d0eb45-6dd1-46d8-9e9c-a3497a55b0c5",
   "metadata": {},
   "outputs": [
    {
     "name": "stderr",
     "output_type": "stream",
     "text": [
      "[nltk_data] Downloading package punkt to\n",
      "[nltk_data]     C:\\Users\\cath\\AppData\\Roaming\\nltk_data...\n",
      "[nltk_data]   Package punkt is already up-to-date!\n"
     ]
    },
    {
     "data": {
      "text/plain": [
       "True"
      ]
     },
     "execution_count": 30,
     "metadata": {},
     "output_type": "execute_result"
    }
   ],
   "source": [
    "import nltk\n",
    "from nltk.tokenize import word_tokenize\n",
    "nltk.download('punkt')"
   ]
  },
  {
   "cell_type": "code",
   "execution_count": 54,
   "id": "c3e40940-fb5f-41c2-a196-1e0ee4c16192",
   "metadata": {},
   "outputs": [
    {
     "data": {
      "text/plain": [
       "dtype('O')"
      ]
     },
     "execution_count": 54,
     "metadata": {},
     "output_type": "execute_result"
    }
   ],
   "source": [
    "df_genre_words.dtypes"
   ]
  },
  {
   "cell_type": "code",
   "execution_count": 59,
   "id": "46cd605b-69f6-4e8e-886a-d0a80512e545",
   "metadata": {},
   "outputs": [
    {
     "ename": "TypeError",
     "evalue": "expected string or bytes-like object, got 'list'",
     "output_type": "error",
     "traceback": [
      "\u001b[1;31m---------------------------------------------------------------------------\u001b[0m",
      "\u001b[1;31mTypeError\u001b[0m                                 Traceback (most recent call last)",
      "Cell \u001b[1;32mIn[59], line 1\u001b[0m\n\u001b[1;32m----> 1\u001b[0m df_genre_words\u001b[38;5;241m.\u001b[39mapply(word_tokenize)\n\u001b[0;32m      2\u001b[0m df_genre_words[\u001b[38;5;124m'\u001b[39m\u001b[38;5;124mgenrewords\u001b[39m\u001b[38;5;124m'\u001b[39m] \u001b[38;5;241m=\u001b[39m df_genre_words[(\u001b[38;5;124m\"\u001b[39m\u001b[38;5;124mtrack\u001b[39m\u001b[38;5;124m\"\u001b[39m, \u001b[38;5;124m\"\u001b[39m\u001b[38;5;124mgenres\u001b[39m\u001b[38;5;124m\"\u001b[39m)]\u001b[38;5;241m.\u001b[39mapply(word_tokenize)\n",
      "File \u001b[1;32m~\\miniconda3\\envs\\musicPython\\Lib\\site-packages\\pandas\\core\\series.py:4764\u001b[0m, in \u001b[0;36mSeries.apply\u001b[1;34m(self, func, convert_dtype, args, by_row, **kwargs)\u001b[0m\n\u001b[0;32m   4629\u001b[0m \u001b[38;5;28;01mdef\u001b[39;00m \u001b[38;5;21mapply\u001b[39m(\n\u001b[0;32m   4630\u001b[0m     \u001b[38;5;28mself\u001b[39m,\n\u001b[0;32m   4631\u001b[0m     func: AggFuncType,\n\u001b[1;32m   (...)\u001b[0m\n\u001b[0;32m   4636\u001b[0m     \u001b[38;5;241m*\u001b[39m\u001b[38;5;241m*\u001b[39mkwargs,\n\u001b[0;32m   4637\u001b[0m ) \u001b[38;5;241m-\u001b[39m\u001b[38;5;241m>\u001b[39m DataFrame \u001b[38;5;241m|\u001b[39m Series:\n\u001b[0;32m   4638\u001b[0m \u001b[38;5;250m    \u001b[39m\u001b[38;5;124;03m\"\"\"\u001b[39;00m\n\u001b[0;32m   4639\u001b[0m \u001b[38;5;124;03m    Invoke function on values of Series.\u001b[39;00m\n\u001b[0;32m   4640\u001b[0m \n\u001b[1;32m   (...)\u001b[0m\n\u001b[0;32m   4755\u001b[0m \u001b[38;5;124;03m    dtype: float64\u001b[39;00m\n\u001b[0;32m   4756\u001b[0m \u001b[38;5;124;03m    \"\"\"\u001b[39;00m\n\u001b[0;32m   4757\u001b[0m     \u001b[38;5;28;01mreturn\u001b[39;00m SeriesApply(\n\u001b[0;32m   4758\u001b[0m         \u001b[38;5;28mself\u001b[39m,\n\u001b[0;32m   4759\u001b[0m         func,\n\u001b[0;32m   4760\u001b[0m         convert_dtype\u001b[38;5;241m=\u001b[39mconvert_dtype,\n\u001b[0;32m   4761\u001b[0m         by_row\u001b[38;5;241m=\u001b[39mby_row,\n\u001b[0;32m   4762\u001b[0m         args\u001b[38;5;241m=\u001b[39margs,\n\u001b[0;32m   4763\u001b[0m         kwargs\u001b[38;5;241m=\u001b[39mkwargs,\n\u001b[1;32m-> 4764\u001b[0m     )\u001b[38;5;241m.\u001b[39mapply()\n",
      "File \u001b[1;32m~\\miniconda3\\envs\\musicPython\\Lib\\site-packages\\pandas\\core\\apply.py:1209\u001b[0m, in \u001b[0;36mSeriesApply.apply\u001b[1;34m(self)\u001b[0m\n\u001b[0;32m   1206\u001b[0m     \u001b[38;5;28;01mreturn\u001b[39;00m \u001b[38;5;28mself\u001b[39m\u001b[38;5;241m.\u001b[39mapply_compat()\n\u001b[0;32m   1208\u001b[0m \u001b[38;5;66;03m# self.func is Callable\u001b[39;00m\n\u001b[1;32m-> 1209\u001b[0m \u001b[38;5;28;01mreturn\u001b[39;00m \u001b[38;5;28mself\u001b[39m\u001b[38;5;241m.\u001b[39mapply_standard()\n",
      "File \u001b[1;32m~\\miniconda3\\envs\\musicPython\\Lib\\site-packages\\pandas\\core\\apply.py:1289\u001b[0m, in \u001b[0;36mSeriesApply.apply_standard\u001b[1;34m(self)\u001b[0m\n\u001b[0;32m   1283\u001b[0m \u001b[38;5;66;03m# row-wise access\u001b[39;00m\n\u001b[0;32m   1284\u001b[0m \u001b[38;5;66;03m# apply doesn't have a `na_action` keyword and for backward compat reasons\u001b[39;00m\n\u001b[0;32m   1285\u001b[0m \u001b[38;5;66;03m# we need to give `na_action=\"ignore\"` for categorical data.\u001b[39;00m\n\u001b[0;32m   1286\u001b[0m \u001b[38;5;66;03m# TODO: remove the `na_action=\"ignore\"` when that default has been changed in\u001b[39;00m\n\u001b[0;32m   1287\u001b[0m \u001b[38;5;66;03m#  Categorical (GH51645).\u001b[39;00m\n\u001b[0;32m   1288\u001b[0m action \u001b[38;5;241m=\u001b[39m \u001b[38;5;124m\"\u001b[39m\u001b[38;5;124mignore\u001b[39m\u001b[38;5;124m\"\u001b[39m \u001b[38;5;28;01mif\u001b[39;00m \u001b[38;5;28misinstance\u001b[39m(obj\u001b[38;5;241m.\u001b[39mdtype, CategoricalDtype) \u001b[38;5;28;01melse\u001b[39;00m \u001b[38;5;28;01mNone\u001b[39;00m\n\u001b[1;32m-> 1289\u001b[0m mapped \u001b[38;5;241m=\u001b[39m obj\u001b[38;5;241m.\u001b[39m_map_values(\n\u001b[0;32m   1290\u001b[0m     mapper\u001b[38;5;241m=\u001b[39mcurried, na_action\u001b[38;5;241m=\u001b[39maction, convert\u001b[38;5;241m=\u001b[39m\u001b[38;5;28mself\u001b[39m\u001b[38;5;241m.\u001b[39mconvert_dtype\n\u001b[0;32m   1291\u001b[0m )\n\u001b[0;32m   1293\u001b[0m \u001b[38;5;28;01mif\u001b[39;00m \u001b[38;5;28mlen\u001b[39m(mapped) \u001b[38;5;129;01mand\u001b[39;00m \u001b[38;5;28misinstance\u001b[39m(mapped[\u001b[38;5;241m0\u001b[39m], ABCSeries):\n\u001b[0;32m   1294\u001b[0m     \u001b[38;5;66;03m# GH#43986 Need to do list(mapped) in order to get treated as nested\u001b[39;00m\n\u001b[0;32m   1295\u001b[0m     \u001b[38;5;66;03m#  See also GH#25959 regarding EA support\u001b[39;00m\n\u001b[0;32m   1296\u001b[0m     \u001b[38;5;28;01mreturn\u001b[39;00m obj\u001b[38;5;241m.\u001b[39m_constructor_expanddim(\u001b[38;5;28mlist\u001b[39m(mapped), index\u001b[38;5;241m=\u001b[39mobj\u001b[38;5;241m.\u001b[39mindex)\n",
      "File \u001b[1;32m~\\miniconda3\\envs\\musicPython\\Lib\\site-packages\\pandas\\core\\base.py:921\u001b[0m, in \u001b[0;36mIndexOpsMixin._map_values\u001b[1;34m(self, mapper, na_action, convert)\u001b[0m\n\u001b[0;32m    918\u001b[0m \u001b[38;5;28;01mif\u001b[39;00m \u001b[38;5;28misinstance\u001b[39m(arr, ExtensionArray):\n\u001b[0;32m    919\u001b[0m     \u001b[38;5;28;01mreturn\u001b[39;00m arr\u001b[38;5;241m.\u001b[39mmap(mapper, na_action\u001b[38;5;241m=\u001b[39mna_action)\n\u001b[1;32m--> 921\u001b[0m \u001b[38;5;28;01mreturn\u001b[39;00m algorithms\u001b[38;5;241m.\u001b[39mmap_array(arr, mapper, na_action\u001b[38;5;241m=\u001b[39mna_action, convert\u001b[38;5;241m=\u001b[39mconvert)\n",
      "File \u001b[1;32m~\\miniconda3\\envs\\musicPython\\Lib\\site-packages\\pandas\\core\\algorithms.py:1814\u001b[0m, in \u001b[0;36mmap_array\u001b[1;34m(arr, mapper, na_action, convert)\u001b[0m\n\u001b[0;32m   1812\u001b[0m values \u001b[38;5;241m=\u001b[39m arr\u001b[38;5;241m.\u001b[39mastype(\u001b[38;5;28mobject\u001b[39m, copy\u001b[38;5;241m=\u001b[39m\u001b[38;5;28;01mFalse\u001b[39;00m)\n\u001b[0;32m   1813\u001b[0m \u001b[38;5;28;01mif\u001b[39;00m na_action \u001b[38;5;129;01mis\u001b[39;00m \u001b[38;5;28;01mNone\u001b[39;00m:\n\u001b[1;32m-> 1814\u001b[0m     \u001b[38;5;28;01mreturn\u001b[39;00m lib\u001b[38;5;241m.\u001b[39mmap_infer(values, mapper, convert\u001b[38;5;241m=\u001b[39mconvert)\n\u001b[0;32m   1815\u001b[0m \u001b[38;5;28;01melse\u001b[39;00m:\n\u001b[0;32m   1816\u001b[0m     \u001b[38;5;28;01mreturn\u001b[39;00m lib\u001b[38;5;241m.\u001b[39mmap_infer_mask(\n\u001b[0;32m   1817\u001b[0m         values, mapper, mask\u001b[38;5;241m=\u001b[39misna(values)\u001b[38;5;241m.\u001b[39mview(np\u001b[38;5;241m.\u001b[39muint8), convert\u001b[38;5;241m=\u001b[39mconvert\n\u001b[0;32m   1818\u001b[0m     )\n",
      "File \u001b[1;32mlib.pyx:2926\u001b[0m, in \u001b[0;36mpandas._libs.lib.map_infer\u001b[1;34m()\u001b[0m\n",
      "File \u001b[1;32m~\\miniconda3\\envs\\musicPython\\Lib\\site-packages\\nltk\\tokenize\\__init__.py:129\u001b[0m, in \u001b[0;36mword_tokenize\u001b[1;34m(text, language, preserve_line)\u001b[0m\n\u001b[0;32m    114\u001b[0m \u001b[38;5;28;01mdef\u001b[39;00m \u001b[38;5;21mword_tokenize\u001b[39m(text, language\u001b[38;5;241m=\u001b[39m\u001b[38;5;124m\"\u001b[39m\u001b[38;5;124menglish\u001b[39m\u001b[38;5;124m\"\u001b[39m, preserve_line\u001b[38;5;241m=\u001b[39m\u001b[38;5;28;01mFalse\u001b[39;00m):\n\u001b[0;32m    115\u001b[0m \u001b[38;5;250m    \u001b[39m\u001b[38;5;124;03m\"\"\"\u001b[39;00m\n\u001b[0;32m    116\u001b[0m \u001b[38;5;124;03m    Return a tokenized copy of *text*,\u001b[39;00m\n\u001b[0;32m    117\u001b[0m \u001b[38;5;124;03m    using NLTK's recommended word tokenizer\u001b[39;00m\n\u001b[1;32m   (...)\u001b[0m\n\u001b[0;32m    127\u001b[0m \u001b[38;5;124;03m    :type preserve_line: bool\u001b[39;00m\n\u001b[0;32m    128\u001b[0m \u001b[38;5;124;03m    \"\"\"\u001b[39;00m\n\u001b[1;32m--> 129\u001b[0m     sentences \u001b[38;5;241m=\u001b[39m [text] \u001b[38;5;28;01mif\u001b[39;00m preserve_line \u001b[38;5;28;01melse\u001b[39;00m sent_tokenize(text, language)\n\u001b[0;32m    130\u001b[0m     \u001b[38;5;28;01mreturn\u001b[39;00m [\n\u001b[0;32m    131\u001b[0m         token \u001b[38;5;28;01mfor\u001b[39;00m sent \u001b[38;5;129;01min\u001b[39;00m sentences \u001b[38;5;28;01mfor\u001b[39;00m token \u001b[38;5;129;01min\u001b[39;00m _treebank_word_tokenizer\u001b[38;5;241m.\u001b[39mtokenize(sent)\n\u001b[0;32m    132\u001b[0m     ]\n",
      "File \u001b[1;32m~\\miniconda3\\envs\\musicPython\\Lib\\site-packages\\nltk\\tokenize\\__init__.py:107\u001b[0m, in \u001b[0;36msent_tokenize\u001b[1;34m(text, language)\u001b[0m\n\u001b[0;32m     97\u001b[0m \u001b[38;5;250m\u001b[39m\u001b[38;5;124;03m\"\"\"\u001b[39;00m\n\u001b[0;32m     98\u001b[0m \u001b[38;5;124;03mReturn a sentence-tokenized copy of *text*,\u001b[39;00m\n\u001b[0;32m     99\u001b[0m \u001b[38;5;124;03musing NLTK's recommended sentence tokenizer\u001b[39;00m\n\u001b[1;32m   (...)\u001b[0m\n\u001b[0;32m    104\u001b[0m \u001b[38;5;124;03m:param language: the model name in the Punkt corpus\u001b[39;00m\n\u001b[0;32m    105\u001b[0m \u001b[38;5;124;03m\"\"\"\u001b[39;00m\n\u001b[0;32m    106\u001b[0m tokenizer \u001b[38;5;241m=\u001b[39m load(\u001b[38;5;124mf\u001b[39m\u001b[38;5;124m\"\u001b[39m\u001b[38;5;124mtokenizers/punkt/\u001b[39m\u001b[38;5;132;01m{\u001b[39;00mlanguage\u001b[38;5;132;01m}\u001b[39;00m\u001b[38;5;124m.pickle\u001b[39m\u001b[38;5;124m\"\u001b[39m)\n\u001b[1;32m--> 107\u001b[0m \u001b[38;5;28;01mreturn\u001b[39;00m tokenizer\u001b[38;5;241m.\u001b[39mtokenize(text)\n",
      "File \u001b[1;32m~\\miniconda3\\envs\\musicPython\\Lib\\site-packages\\nltk\\tokenize\\punkt.py:1281\u001b[0m, in \u001b[0;36mPunktSentenceTokenizer.tokenize\u001b[1;34m(self, text, realign_boundaries)\u001b[0m\n\u001b[0;32m   1277\u001b[0m \u001b[38;5;28;01mdef\u001b[39;00m \u001b[38;5;21mtokenize\u001b[39m(\u001b[38;5;28mself\u001b[39m, text: \u001b[38;5;28mstr\u001b[39m, realign_boundaries: \u001b[38;5;28mbool\u001b[39m \u001b[38;5;241m=\u001b[39m \u001b[38;5;28;01mTrue\u001b[39;00m) \u001b[38;5;241m-\u001b[39m\u001b[38;5;241m>\u001b[39m List[\u001b[38;5;28mstr\u001b[39m]:\n\u001b[0;32m   1278\u001b[0m \u001b[38;5;250m    \u001b[39m\u001b[38;5;124;03m\"\"\"\u001b[39;00m\n\u001b[0;32m   1279\u001b[0m \u001b[38;5;124;03m    Given a text, returns a list of the sentences in that text.\u001b[39;00m\n\u001b[0;32m   1280\u001b[0m \u001b[38;5;124;03m    \"\"\"\u001b[39;00m\n\u001b[1;32m-> 1281\u001b[0m     \u001b[38;5;28;01mreturn\u001b[39;00m \u001b[38;5;28mlist\u001b[39m(\u001b[38;5;28mself\u001b[39m\u001b[38;5;241m.\u001b[39msentences_from_text(text, realign_boundaries))\n",
      "File \u001b[1;32m~\\miniconda3\\envs\\musicPython\\Lib\\site-packages\\nltk\\tokenize\\punkt.py:1341\u001b[0m, in \u001b[0;36mPunktSentenceTokenizer.sentences_from_text\u001b[1;34m(self, text, realign_boundaries)\u001b[0m\n\u001b[0;32m   1332\u001b[0m \u001b[38;5;28;01mdef\u001b[39;00m \u001b[38;5;21msentences_from_text\u001b[39m(\n\u001b[0;32m   1333\u001b[0m     \u001b[38;5;28mself\u001b[39m, text: \u001b[38;5;28mstr\u001b[39m, realign_boundaries: \u001b[38;5;28mbool\u001b[39m \u001b[38;5;241m=\u001b[39m \u001b[38;5;28;01mTrue\u001b[39;00m\n\u001b[0;32m   1334\u001b[0m ) \u001b[38;5;241m-\u001b[39m\u001b[38;5;241m>\u001b[39m List[\u001b[38;5;28mstr\u001b[39m]:\n\u001b[0;32m   1335\u001b[0m \u001b[38;5;250m    \u001b[39m\u001b[38;5;124;03m\"\"\"\u001b[39;00m\n\u001b[0;32m   1336\u001b[0m \u001b[38;5;124;03m    Given a text, generates the sentences in that text by only\u001b[39;00m\n\u001b[0;32m   1337\u001b[0m \u001b[38;5;124;03m    testing candidate sentence breaks. If realign_boundaries is\u001b[39;00m\n\u001b[0;32m   1338\u001b[0m \u001b[38;5;124;03m    True, includes in the sentence closing punctuation that\u001b[39;00m\n\u001b[0;32m   1339\u001b[0m \u001b[38;5;124;03m    follows the period.\u001b[39;00m\n\u001b[0;32m   1340\u001b[0m \u001b[38;5;124;03m    \"\"\"\u001b[39;00m\n\u001b[1;32m-> 1341\u001b[0m     \u001b[38;5;28;01mreturn\u001b[39;00m [text[s:e] \u001b[38;5;28;01mfor\u001b[39;00m s, e \u001b[38;5;129;01min\u001b[39;00m \u001b[38;5;28mself\u001b[39m\u001b[38;5;241m.\u001b[39mspan_tokenize(text, realign_boundaries)]\n",
      "File \u001b[1;32m~\\miniconda3\\envs\\musicPython\\Lib\\site-packages\\nltk\\tokenize\\punkt.py:1341\u001b[0m, in \u001b[0;36m<listcomp>\u001b[1;34m(.0)\u001b[0m\n\u001b[0;32m   1332\u001b[0m \u001b[38;5;28;01mdef\u001b[39;00m \u001b[38;5;21msentences_from_text\u001b[39m(\n\u001b[0;32m   1333\u001b[0m     \u001b[38;5;28mself\u001b[39m, text: \u001b[38;5;28mstr\u001b[39m, realign_boundaries: \u001b[38;5;28mbool\u001b[39m \u001b[38;5;241m=\u001b[39m \u001b[38;5;28;01mTrue\u001b[39;00m\n\u001b[0;32m   1334\u001b[0m ) \u001b[38;5;241m-\u001b[39m\u001b[38;5;241m>\u001b[39m List[\u001b[38;5;28mstr\u001b[39m]:\n\u001b[0;32m   1335\u001b[0m \u001b[38;5;250m    \u001b[39m\u001b[38;5;124;03m\"\"\"\u001b[39;00m\n\u001b[0;32m   1336\u001b[0m \u001b[38;5;124;03m    Given a text, generates the sentences in that text by only\u001b[39;00m\n\u001b[0;32m   1337\u001b[0m \u001b[38;5;124;03m    testing candidate sentence breaks. If realign_boundaries is\u001b[39;00m\n\u001b[0;32m   1338\u001b[0m \u001b[38;5;124;03m    True, includes in the sentence closing punctuation that\u001b[39;00m\n\u001b[0;32m   1339\u001b[0m \u001b[38;5;124;03m    follows the period.\u001b[39;00m\n\u001b[0;32m   1340\u001b[0m \u001b[38;5;124;03m    \"\"\"\u001b[39;00m\n\u001b[1;32m-> 1341\u001b[0m     \u001b[38;5;28;01mreturn\u001b[39;00m [text[s:e] \u001b[38;5;28;01mfor\u001b[39;00m s, e \u001b[38;5;129;01min\u001b[39;00m \u001b[38;5;28mself\u001b[39m\u001b[38;5;241m.\u001b[39mspan_tokenize(text, realign_boundaries)]\n",
      "File \u001b[1;32m~\\miniconda3\\envs\\musicPython\\Lib\\site-packages\\nltk\\tokenize\\punkt.py:1329\u001b[0m, in \u001b[0;36mPunktSentenceTokenizer.span_tokenize\u001b[1;34m(self, text, realign_boundaries)\u001b[0m\n\u001b[0;32m   1327\u001b[0m \u001b[38;5;28;01mif\u001b[39;00m realign_boundaries:\n\u001b[0;32m   1328\u001b[0m     slices \u001b[38;5;241m=\u001b[39m \u001b[38;5;28mself\u001b[39m\u001b[38;5;241m.\u001b[39m_realign_boundaries(text, slices)\n\u001b[1;32m-> 1329\u001b[0m \u001b[38;5;28;01mfor\u001b[39;00m sentence \u001b[38;5;129;01min\u001b[39;00m slices:\n\u001b[0;32m   1330\u001b[0m     \u001b[38;5;28;01myield\u001b[39;00m (sentence\u001b[38;5;241m.\u001b[39mstart, sentence\u001b[38;5;241m.\u001b[39mstop)\n",
      "File \u001b[1;32m~\\miniconda3\\envs\\musicPython\\Lib\\site-packages\\nltk\\tokenize\\punkt.py:1459\u001b[0m, in \u001b[0;36mPunktSentenceTokenizer._realign_boundaries\u001b[1;34m(self, text, slices)\u001b[0m\n\u001b[0;32m   1446\u001b[0m \u001b[38;5;250m\u001b[39m\u001b[38;5;124;03m\"\"\"\u001b[39;00m\n\u001b[0;32m   1447\u001b[0m \u001b[38;5;124;03mAttempts to realign punctuation that falls after the period but\u001b[39;00m\n\u001b[0;32m   1448\u001b[0m \u001b[38;5;124;03mshould otherwise be included in the same sentence.\u001b[39;00m\n\u001b[1;32m   (...)\u001b[0m\n\u001b[0;32m   1456\u001b[0m \u001b[38;5;124;03m    [\"(Sent1.)\", \"Sent2.\"].\u001b[39;00m\n\u001b[0;32m   1457\u001b[0m \u001b[38;5;124;03m\"\"\"\u001b[39;00m\n\u001b[0;32m   1458\u001b[0m realign \u001b[38;5;241m=\u001b[39m \u001b[38;5;241m0\u001b[39m\n\u001b[1;32m-> 1459\u001b[0m \u001b[38;5;28;01mfor\u001b[39;00m sentence1, sentence2 \u001b[38;5;129;01min\u001b[39;00m _pair_iter(slices):\n\u001b[0;32m   1460\u001b[0m     sentence1 \u001b[38;5;241m=\u001b[39m \u001b[38;5;28mslice\u001b[39m(sentence1\u001b[38;5;241m.\u001b[39mstart \u001b[38;5;241m+\u001b[39m realign, sentence1\u001b[38;5;241m.\u001b[39mstop)\n\u001b[0;32m   1461\u001b[0m     \u001b[38;5;28;01mif\u001b[39;00m \u001b[38;5;129;01mnot\u001b[39;00m sentence2:\n",
      "File \u001b[1;32m~\\miniconda3\\envs\\musicPython\\Lib\\site-packages\\nltk\\tokenize\\punkt.py:321\u001b[0m, in \u001b[0;36m_pair_iter\u001b[1;34m(iterator)\u001b[0m\n\u001b[0;32m    319\u001b[0m iterator \u001b[38;5;241m=\u001b[39m \u001b[38;5;28miter\u001b[39m(iterator)\n\u001b[0;32m    320\u001b[0m \u001b[38;5;28;01mtry\u001b[39;00m:\n\u001b[1;32m--> 321\u001b[0m     prev \u001b[38;5;241m=\u001b[39m \u001b[38;5;28mnext\u001b[39m(iterator)\n\u001b[0;32m    322\u001b[0m \u001b[38;5;28;01mexcept\u001b[39;00m \u001b[38;5;167;01mStopIteration\u001b[39;00m:\n\u001b[0;32m    323\u001b[0m     \u001b[38;5;28;01mreturn\u001b[39;00m\n",
      "File \u001b[1;32m~\\miniconda3\\envs\\musicPython\\Lib\\site-packages\\nltk\\tokenize\\punkt.py:1431\u001b[0m, in \u001b[0;36mPunktSentenceTokenizer._slices_from_text\u001b[1;34m(self, text)\u001b[0m\n\u001b[0;32m   1429\u001b[0m \u001b[38;5;28;01mdef\u001b[39;00m \u001b[38;5;21m_slices_from_text\u001b[39m(\u001b[38;5;28mself\u001b[39m, text: \u001b[38;5;28mstr\u001b[39m) \u001b[38;5;241m-\u001b[39m\u001b[38;5;241m>\u001b[39m Iterator[\u001b[38;5;28mslice\u001b[39m]:\n\u001b[0;32m   1430\u001b[0m     last_break \u001b[38;5;241m=\u001b[39m \u001b[38;5;241m0\u001b[39m\n\u001b[1;32m-> 1431\u001b[0m     \u001b[38;5;28;01mfor\u001b[39;00m match, context \u001b[38;5;129;01min\u001b[39;00m \u001b[38;5;28mself\u001b[39m\u001b[38;5;241m.\u001b[39m_match_potential_end_contexts(text):\n\u001b[0;32m   1432\u001b[0m         \u001b[38;5;28;01mif\u001b[39;00m \u001b[38;5;28mself\u001b[39m\u001b[38;5;241m.\u001b[39mtext_contains_sentbreak(context):\n\u001b[0;32m   1433\u001b[0m             \u001b[38;5;28;01myield\u001b[39;00m \u001b[38;5;28mslice\u001b[39m(last_break, match\u001b[38;5;241m.\u001b[39mend())\n",
      "File \u001b[1;32m~\\miniconda3\\envs\\musicPython\\Lib\\site-packages\\nltk\\tokenize\\punkt.py:1395\u001b[0m, in \u001b[0;36mPunktSentenceTokenizer._match_potential_end_contexts\u001b[1;34m(self, text)\u001b[0m\n\u001b[0;32m   1393\u001b[0m previous_slice \u001b[38;5;241m=\u001b[39m \u001b[38;5;28mslice\u001b[39m(\u001b[38;5;241m0\u001b[39m, \u001b[38;5;241m0\u001b[39m)\n\u001b[0;32m   1394\u001b[0m previous_match \u001b[38;5;241m=\u001b[39m \u001b[38;5;28;01mNone\u001b[39;00m\n\u001b[1;32m-> 1395\u001b[0m \u001b[38;5;28;01mfor\u001b[39;00m match \u001b[38;5;129;01min\u001b[39;00m \u001b[38;5;28mself\u001b[39m\u001b[38;5;241m.\u001b[39m_lang_vars\u001b[38;5;241m.\u001b[39mperiod_context_re()\u001b[38;5;241m.\u001b[39mfinditer(text):\n\u001b[0;32m   1396\u001b[0m \n\u001b[0;32m   1397\u001b[0m     \u001b[38;5;66;03m# Get the slice of the previous word\u001b[39;00m\n\u001b[0;32m   1398\u001b[0m     before_text \u001b[38;5;241m=\u001b[39m text[previous_slice\u001b[38;5;241m.\u001b[39mstop : match\u001b[38;5;241m.\u001b[39mstart()]\n\u001b[0;32m   1399\u001b[0m     index_after_last_space \u001b[38;5;241m=\u001b[39m \u001b[38;5;28mself\u001b[39m\u001b[38;5;241m.\u001b[39m_get_last_whitespace_index(before_text)\n",
      "\u001b[1;31mTypeError\u001b[0m: expected string or bytes-like object, got 'list'"
     ]
    }
   ],
   "source": [
    "df_genre_words.apply(word_tokenize)\n",
    "df_genre_words['genrewords'] = df_genre_words[(\"track\", \"genres\")].apply(word_tokenize)"
   ]
  },
  {
   "cell_type": "code",
   "execution_count": 58,
   "id": "18fe59f0-43ba-4fd8-ad1b-8e55704a9cd0",
   "metadata": {},
   "outputs": [
    {
     "data": {
      "text/html": [
       "<div>\n",
       "<style scoped>\n",
       "    .dataframe tbody tr th:only-of-type {\n",
       "        vertical-align: middle;\n",
       "    }\n",
       "\n",
       "    .dataframe tbody tr th {\n",
       "        vertical-align: top;\n",
       "    }\n",
       "\n",
       "    .dataframe thead tr th {\n",
       "        text-align: left;\n",
       "    }\n",
       "\n",
       "    .dataframe thead tr:last-of-type th {\n",
       "        text-align: right;\n",
       "    }\n",
       "</style>\n",
       "<table border=\"1\" class=\"dataframe\">\n",
       "  <thead>\n",
       "    <tr>\n",
       "      <th></th>\n",
       "      <th colspan=\"2\" halign=\"left\">track</th>\n",
       "      <th>genrewords</th>\n",
       "    </tr>\n",
       "    <tr>\n",
       "      <th></th>\n",
       "      <th>genres</th>\n",
       "      <th>genres_all</th>\n",
       "      <th></th>\n",
       "    </tr>\n",
       "    <tr>\n",
       "      <th>track_id</th>\n",
       "      <th></th>\n",
       "      <th></th>\n",
       "      <th></th>\n",
       "    </tr>\n",
       "  </thead>\n",
       "  <tbody>\n",
       "    <tr>\n",
       "      <th>137</th>\n",
       "      <td>[1, 32]</td>\n",
       "      <td>[32, 1, 38]</td>\n",
       "      <td>[[, 1, ,, 32, ]]</td>\n",
       "    </tr>\n",
       "    <tr>\n",
       "      <th>138</th>\n",
       "      <td>[1, 32]</td>\n",
       "      <td>[32, 1, 38]</td>\n",
       "      <td>[[, 1, ,, 32, ]]</td>\n",
       "    </tr>\n",
       "    <tr>\n",
       "      <th>850</th>\n",
       "      <td>[12]</td>\n",
       "      <td>[12]</td>\n",
       "      <td>[[, 12, ]]</td>\n",
       "    </tr>\n",
       "    <tr>\n",
       "      <th>851</th>\n",
       "      <td>[12]</td>\n",
       "      <td>[12]</td>\n",
       "      <td>[[, 12, ]]</td>\n",
       "    </tr>\n",
       "    <tr>\n",
       "      <th>852</th>\n",
       "      <td>[12]</td>\n",
       "      <td>[12]</td>\n",
       "      <td>[[, 12, ]]</td>\n",
       "    </tr>\n",
       "    <tr>\n",
       "      <th>...</th>\n",
       "      <td>...</td>\n",
       "      <td>...</td>\n",
       "      <td>...</td>\n",
       "    </tr>\n",
       "    <tr>\n",
       "      <th>155269</th>\n",
       "      <td>[42, 107, 183]</td>\n",
       "      <td>[42, 107, 15, 1235, 183]</td>\n",
       "      <td>[[, 42, ,, 107, ,, 183, ]]</td>\n",
       "    </tr>\n",
       "    <tr>\n",
       "      <th>155275</th>\n",
       "      <td>[15, 32, 38]</td>\n",
       "      <td>[32, 38, 15]</td>\n",
       "      <td>[[, 15, ,, 32, ,, 38, ]]</td>\n",
       "    </tr>\n",
       "    <tr>\n",
       "      <th>155276</th>\n",
       "      <td>[15, 32, 38]</td>\n",
       "      <td>[32, 38, 15]</td>\n",
       "      <td>[[, 15, ,, 32, ,, 38, ]]</td>\n",
       "    </tr>\n",
       "    <tr>\n",
       "      <th>155277</th>\n",
       "      <td>[15, 32, 38]</td>\n",
       "      <td>[32, 38, 15]</td>\n",
       "      <td>[[, 15, ,, 32, ,, 38, ]]</td>\n",
       "    </tr>\n",
       "    <tr>\n",
       "      <th>155320</th>\n",
       "      <td>[10, 12, 169]</td>\n",
       "      <td>[169, 10, 12, 9]</td>\n",
       "      <td>[[, 10, ,, 12, ,, 169, ]]</td>\n",
       "    </tr>\n",
       "  </tbody>\n",
       "</table>\n",
       "<p>23496 rows × 3 columns</p>\n",
       "</div>"
      ],
      "text/plain": [
       "                   track                                            genrewords\n",
       "                  genres                genres_all                            \n",
       "track_id                                                                      \n",
       "137              [1, 32]               [32, 1, 38]            [[, 1, ,, 32, ]]\n",
       "138              [1, 32]               [32, 1, 38]            [[, 1, ,, 32, ]]\n",
       "850                 [12]                      [12]                  [[, 12, ]]\n",
       "851                 [12]                      [12]                  [[, 12, ]]\n",
       "852                 [12]                      [12]                  [[, 12, ]]\n",
       "...                  ...                       ...                         ...\n",
       "155269    [42, 107, 183]  [42, 107, 15, 1235, 183]  [[, 42, ,, 107, ,, 183, ]]\n",
       "155275      [15, 32, 38]              [32, 38, 15]    [[, 15, ,, 32, ,, 38, ]]\n",
       "155276      [15, 32, 38]              [32, 38, 15]    [[, 15, ,, 32, ,, 38, ]]\n",
       "155277      [15, 32, 38]              [32, 38, 15]    [[, 15, ,, 32, ,, 38, ]]\n",
       "155320     [10, 12, 169]          [169, 10, 12, 9]   [[, 10, ,, 12, ,, 169, ]]\n",
       "\n",
       "[23496 rows x 3 columns]"
      ]
     },
     "execution_count": 58,
     "metadata": {},
     "output_type": "execute_result"
    }
   ],
   "source": [
    "df_track_genres[(\"track\", \"genres\")].apply(word_tokenize)\n",
    "\n",
    "df_track_genres['genrewords'] = df_track_genres[(\"track\", \"genres\")].apply(word_tokenize)\n",
    "\n",
    "df_track_genres"
   ]
  },
  {
   "cell_type": "code",
   "execution_count": null,
   "id": "f2bad721-34a9-4729-bd38-17276f64ba4a",
   "metadata": {},
   "outputs": [],
   "source": []
  }
 ],
 "metadata": {
  "kernelspec": {
   "display_name": "Python 3 (ipykernel)",
   "language": "python",
   "name": "python3"
  },
  "language_info": {
   "codemirror_mode": {
    "name": "ipython",
    "version": 3
   },
   "file_extension": ".py",
   "mimetype": "text/x-python",
   "name": "python",
   "nbconvert_exporter": "python",
   "pygments_lexer": "ipython3",
   "version": "3.11.7"
  }
 },
 "nbformat": 4,
 "nbformat_minor": 5
}
